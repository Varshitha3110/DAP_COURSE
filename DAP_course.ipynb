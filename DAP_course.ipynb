{
 "cells": [
  {
   "cell_type": "markdown",
   "id": "f02c8781-e1f2-40cb-a1d9-387b98493916",
   "metadata": {},
   "source": [
    "**DAP Activity1**"
   ]
  },
  {
   "cell_type": "markdown",
   "id": "a7457812-133f-4109-9c47-5c60ad99cc96",
   "metadata": {},
   "source": [
    "**1. Calculate the multiplication and sum of two numbers**"
   ]
  },
  {
   "cell_type": "code",
   "execution_count": 6,
   "id": "ea81f7d3-5677-4dec-85bf-e60463780095",
   "metadata": {},
   "outputs": [
    {
     "name": "stdin",
     "output_type": "stream",
     "text": [
      "Enter the values of 1st number :  2\n",
      "Enter the values of 2nd number :  3\n"
     ]
    },
    {
     "name": "stdout",
     "output_type": "stream",
     "text": [
      "The sum of 2 and 3 is :  5\n",
      "The multiplication of 2 and 3 is :  6\n"
     ]
    }
   ],
   "source": [
    "a=int(input(\"Enter the values of 1st number : \"))\n",
    "b=int(input(\"Enter the values of 2nd number : \"))\n",
    "\n",
    "sum=a+b\n",
    "mul=a*b\n",
    "\n",
    "print(f\"The sum of {a} and {b} is : \",sum)\n",
    "print(f\"The multiplication of {a} and {b} is : \",mul)"
   ]
  },
  {
   "cell_type": "markdown",
   "id": "3733a747-afc6-4644-a8bb-70e51a7c4f87",
   "metadata": {},
   "source": [
    "**2. Declare two variables and print that which variable is largest using ternary operators**"
   ]
  },
  {
   "cell_type": "code",
   "execution_count": 12,
   "id": "995cef23-20c3-4b62-927d-511c95237fb1",
   "metadata": {},
   "outputs": [
    {
     "name": "stdout",
     "output_type": "stream",
     "text": [
      "The largest number is: 20\n"
     ]
    }
   ],
   "source": [
    "a = 10  \n",
    "b = 20  \n",
    "\n",
    "largest = a if a > b else b  \n",
    "\n",
    "print(\"The largest number is:\", largest)\n",
    "\n"
   ]
  },
  {
   "cell_type": "markdown",
   "id": "08b23940-486d-414c-8987-44a8699711e8",
   "metadata": {},
   "source": [
    "**3.Take input from the user (name, age, and city) and print it in a formatted string.**"
   ]
  },
  {
   "cell_type": "code",
   "execution_count": 22,
   "id": "aef72243-6f6d-4f25-936c-d0403324c417",
   "metadata": {},
   "outputs": [
    {
     "name": "stdin",
     "output_type": "stream",
     "text": [
      "Enter the name :  Koguru Varshitha\n",
      "Enter the age :  20\n",
      "Enter the city name : Bengaluru\n"
     ]
    },
    {
     "name": "stdout",
     "output_type": "stream",
     "text": [
      "Hello Koguru Varshitha, you are 20 years old and live in Bengaluru.\n"
     ]
    }
   ],
   "source": [
    "name = input(\"Enter the name : \")\n",
    "age=int(input(\"Enter the age : \"))\n",
    "city=input(\"Enter the city name :\")\n",
    "\n",
    "print(f\"Hello {name}, you are {age} years old and live in {city}.\")"
   ]
  },
  {
   "cell_type": "markdown",
   "id": "07567674-1650-423b-b793-3addc11cf42a",
   "metadata": {},
   "source": [
    "**4. Python program to find the area of a triangle whose sides are given**"
   ]
  },
  {
   "cell_type": "code",
   "execution_count": 29,
   "id": "2852fcd8-462d-49b8-8d3c-047bf90102be",
   "metadata": {},
   "outputs": [
    {
     "name": "stdin",
     "output_type": "stream",
     "text": [
      "Enter the base of the triangle:  3\n",
      "Enter the height of the triangle:  4\n"
     ]
    },
    {
     "name": "stdout",
     "output_type": "stream",
     "text": [
      "The area of the triangle is: 6.00\n"
     ]
    }
   ],
   "source": [
    "\n",
    "base = float(input(\"Enter the base of the triangle: \"))  \n",
    "height = float(input(\"Enter the height of the triangle: \"))  \n",
    "\n",
    "area = 0.5 * base * height  \n",
    "\n",
    "print(f\"The area of the triangle is: {area:.2f}\")\n"
   ]
  },
  {
   "cell_type": "markdown",
   "id": "6d33313c-6399-45de-8ca3-72a09f28124d",
   "metadata": {},
   "source": [
    "**5.Write a Python program to check whether a number is even or odd**"
   ]
  },
  {
   "cell_type": "code",
   "execution_count": 35,
   "id": "bbe51b1a-e92d-45a0-b1aa-2e22657f4c01",
   "metadata": {},
   "outputs": [
    {
     "name": "stdin",
     "output_type": "stream",
     "text": [
      "Enter the number :  7\n"
     ]
    },
    {
     "name": "stdout",
     "output_type": "stream",
     "text": [
      "The given number 7 is an odd number : \n"
     ]
    }
   ],
   "source": [
    "num=int(input(\"Enter the number : \"))\n",
    "\n",
    "if num%2==0:\n",
    "    print(f\"The given number {num} is an even number : \")\n",
    "else:\n",
    "    print(f\"The given number {num} is an odd number : \")\n"
   ]
  },
  {
   "cell_type": "code",
   "execution_count": 37,
   "id": "2eaaad3d-f5f5-4a2d-9fdf-0dad6cabf90b",
   "metadata": {},
   "outputs": [
    {
     "name": "stdin",
     "output_type": "stream",
     "text": [
      "Enter the number :  2\n"
     ]
    },
    {
     "name": "stdout",
     "output_type": "stream",
     "text": [
      "The given number 2 is an even number : \n"
     ]
    }
   ],
   "source": [
    "num=int(input(\"Enter the number : \"))\n",
    "\n",
    "if num%2==0:\n",
    "    print(f\"The given number {num} is an even number : \")\n",
    "else:\n",
    "    print(f\"The given number {num} is an odd number : \")\n"
   ]
  },
  {
   "cell_type": "code",
   "execution_count": 39,
   "id": "070238cd-6821-4bdf-ab96-fc949ad871e0",
   "metadata": {},
   "outputs": [
    {
     "name": "stdin",
     "output_type": "stream",
     "text": [
      "Enter the number :  0\n"
     ]
    },
    {
     "name": "stdout",
     "output_type": "stream",
     "text": [
      "The given number 0 is an even number : \n"
     ]
    }
   ],
   "source": [
    "num=int(input(\"Enter the number : \"))\n",
    "\n",
    "if num%2==0:\n",
    "    print(f\"The given number {num} is an even number : \")\n",
    "else:\n",
    "    print(f\"The given number {num} is an odd number : \")\n"
   ]
  },
  {
   "cell_type": "code",
   "execution_count": 43,
   "id": "82c948af-8ab2-48d7-938a-e0dc9b88d3f3",
   "metadata": {},
   "outputs": [
    {
     "name": "stdin",
     "output_type": "stream",
     "text": [
      "Enter the number :  -2\n"
     ]
    },
    {
     "name": "stdout",
     "output_type": "stream",
     "text": [
      "The given number -2 is an even number : \n"
     ]
    }
   ],
   "source": [
    "num=int(input(\"Enter the number : \"))\n",
    "\n",
    "if num%2==0:\n",
    "    print(f\"The given number {num} is an even number : \")\n",
    "else:\n",
    "    print(f\"The given number {num} is an odd number : \")\n"
   ]
  },
  {
   "cell_type": "code",
   "execution_count": 45,
   "id": "43956c8c-d6d7-4967-8c43-92af6cc0a419",
   "metadata": {},
   "outputs": [
    {
     "name": "stdin",
     "output_type": "stream",
     "text": [
      "Enter the number :  -5\n"
     ]
    },
    {
     "name": "stdout",
     "output_type": "stream",
     "text": [
      "The given number -5 is an odd number : \n"
     ]
    }
   ],
   "source": [
    "num=int(input(\"Enter the number : \"))\n",
    "\n",
    "if num%2==0:\n",
    "    print(f\"The given number {num} is an even number : \")\n",
    "else:\n",
    "    print(f\"The given number {num} is an odd number : \")\n"
   ]
  },
  {
   "cell_type": "markdown",
   "id": "21145599-2309-48f3-a4b4-ef8ffa2f060f",
   "metadata": {},
   "source": [
    "**6.Find the square and cube of a given number**"
   ]
  },
  {
   "cell_type": "code",
   "execution_count": 51,
   "id": "3961bde7-4022-4063-9d26-da00190bdf93",
   "metadata": {},
   "outputs": [
    {
     "name": "stdin",
     "output_type": "stream",
     "text": [
      "Enter a number:  3\n"
     ]
    },
    {
     "name": "stdout",
     "output_type": "stream",
     "text": [
      "The square of 3.0 is: 9.0\n",
      "The cube of 3.0 is: 27.0\n"
     ]
    }
   ],
   "source": [
    "\n",
    "num = float(input(\"Enter a number: \"))  \n",
    "\n",
    "square = num ** 2  \n",
    "cube = num ** 3  \n",
    "\n",
    "print(f\"The square of {num} is: {square}\")  \n",
    "print(f\"The cube of {num} is: {cube}\")"
   ]
  },
  {
   "cell_type": "code",
   "execution_count": null,
   "id": "0855c4df-9dfa-4b00-bfc1-bdaeee96a883",
   "metadata": {},
   "outputs": [],
   "source": []
  },
  {
   "cell_type": "code",
   "execution_count": null,
   "id": "7d64d02a-ac40-48e1-9ec7-0a6d917383e8",
   "metadata": {},
   "outputs": [],
   "source": []
  }
 ],
 "metadata": {
  "kernelspec": {
   "display_name": "Python [conda env:base] *",
   "language": "python",
   "name": "conda-base-py"
  },
  "language_info": {
   "codemirror_mode": {
    "name": "ipython",
    "version": 3
   },
   "file_extension": ".py",
   "mimetype": "text/x-python",
   "name": "python",
   "nbconvert_exporter": "python",
   "pygments_lexer": "ipython3",
   "version": "3.12.7"
  }
 },
 "nbformat": 4,
 "nbformat_minor": 5
}
